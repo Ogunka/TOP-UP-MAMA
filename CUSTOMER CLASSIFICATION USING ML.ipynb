{
 "cells": [
  {
   "cell_type": "code",
   "execution_count": 16,
   "id": "0520e414",
   "metadata": {},
   "outputs": [],
   "source": [
    "# importing libraries    \n",
    "import numpy as nm    \n",
    "import matplotlib.pyplot as mtp    \n",
    "import pandas as pd    "
   ]
  },
  {
   "cell_type": "code",
   "execution_count": 17,
   "id": "4e84fcb5",
   "metadata": {},
   "outputs": [
    {
     "name": "stderr",
     "output_type": "stream",
     "text": [
      "C:\\Users\\USER\\anaconda3\\lib\\site-packages\\IPython\\core\\interactiveshell.py:3444: DtypeWarning: Columns (2,3,4,9,10,14,15,19,20,21,23,28,29,30,32,33,34,36,41,42,45,46,48,50,51,52,53,54,55,56,57,58,59,60,61,62,63,64,66,67,68,69,70,71,72,73,74,75,76,77,78,80,81,85,86,87,88,90) have mixed types.Specify dtype option on import or set low_memory=False.\n",
      "  exec(code_obj, self.user_global_ns, self.user_ns)\n"
     ]
    }
   ],
   "source": [
    "data = pd.read_csv('Merged_file.csv')"
   ]
  },
  {
   "cell_type": "code",
   "execution_count": 18,
   "id": "97ecd85b",
   "metadata": {},
   "outputs": [
    {
     "data": {
      "text/plain": [
       "Index(['Unnamed: 0', 'Order ID', 'Order Status', 'Category Name', 'SKU',\n",
       "       'Customization Group', 'Customization Option', 'Quantity', 'Unit Price',\n",
       "       'Cost Price', 'Total Cost Price', 'Total Price', 'Order Total',\n",
       "       'Sub Total', 'Tax', 'Delivery Charge', 'Tip', 'Discount',\n",
       "       'Remaining Balance', 'Payment Method', 'Additional Charge',\n",
       "       'Taxable Amount', 'Transaction ID', 'Currency Symbol',\n",
       "       'Transaction Status', 'Promo Code', 'Customer ID', 'Merchant ID',\n",
       "       'Store Name', 'Pickup Address', 'Description', 'Distance (in km)',\n",
       "       'Order Time', 'Pickup Time', 'Delivery Time', 'Ratings', 'Reviews',\n",
       "       'Merchant Earning', 'Commission Amount', 'Commission Payout Status',\n",
       "       'Order Preparation Time', 'Redeemed Loyalty Points',\n",
       "       'Consumed Loyalty Points', 'Cancellation Reason', 'Flat Discount',\n",
       "       'Checkout Template Name', 'Checkout Template Value', 'Task_ID',\n",
       "       'Order_ID', 'Relationship', 'Team_Name', 'Task_Type', 'Notes',\n",
       "       'Agent_ID', 'Distance(m)', 'Total_Time_Taken(min)', 'Pick_up_From',\n",
       "       'Start_Before', 'Complete_Before', 'Completion_Time', 'Task_Status',\n",
       "       'Ref_Images', 'Rating', 'Review', 'Latitude', 'Longitude', 'Tags',\n",
       "       'Promo_Applied', 'Custom_Template_ID', 'Task_Details_QTY',\n",
       "       'Task_Details_AMOUNT', 'Special_Instructions', 'Delivery_Charges',\n",
       "       'Subtotal', 'Payment_Type', 'Task_Category', 'Earning', 'Pricing',\n",
       "       'Last Used Platform', 'Is Blocked', 'Created At', 'Language',\n",
       "       'Outstanding Amount', 'Loyalty Points', 'Number of Employees',\n",
       "       'Agent_Name', 'Unnamed: 34', 'Unnamed: 35', 'Debt Amount',\n",
       "       'Number of employees', 'Upload restuarant location'],\n",
       "      dtype='object')"
      ]
     },
     "execution_count": 18,
     "metadata": {},
     "output_type": "execute_result"
    }
   ],
   "source": [
    "data.columns"
   ]
  },
  {
   "cell_type": "code",
   "execution_count": 20,
   "id": "b8e0c839",
   "metadata": {},
   "outputs": [
    {
     "data": {
      "text/html": [
       "<div>\n",
       "<style scoped>\n",
       "    .dataframe tbody tr th:only-of-type {\n",
       "        vertical-align: middle;\n",
       "    }\n",
       "\n",
       "    .dataframe tbody tr th {\n",
       "        vertical-align: top;\n",
       "    }\n",
       "\n",
       "    .dataframe thead th {\n",
       "        text-align: right;\n",
       "    }\n",
       "</style>\n",
       "<table border=\"1\" class=\"dataframe\">\n",
       "  <thead>\n",
       "    <tr style=\"text-align: right;\">\n",
       "      <th></th>\n",
       "      <th>Customer ID</th>\n",
       "      <th>Order ID</th>\n",
       "      <th>Order Status</th>\n",
       "      <th>Distance (in km)</th>\n",
       "    </tr>\n",
       "  </thead>\n",
       "  <tbody>\n",
       "    <tr>\n",
       "      <th>0</th>\n",
       "      <td>4645484.0</td>\n",
       "      <td>11262518.0</td>\n",
       "      <td>ORDERED</td>\n",
       "      <td>11996.01</td>\n",
       "    </tr>\n",
       "    <tr>\n",
       "      <th>1</th>\n",
       "      <td>4645484.0</td>\n",
       "      <td>11262518.0</td>\n",
       "      <td>ORDERED</td>\n",
       "      <td>11996.01</td>\n",
       "    </tr>\n",
       "    <tr>\n",
       "      <th>2</th>\n",
       "      <td>4420776.0</td>\n",
       "      <td>11261796.0</td>\n",
       "      <td>DISPATCHED</td>\n",
       "      <td>11994.38</td>\n",
       "    </tr>\n",
       "    <tr>\n",
       "      <th>3</th>\n",
       "      <td>4420776.0</td>\n",
       "      <td>11261796.0</td>\n",
       "      <td>DISPATCHED</td>\n",
       "      <td>11994.38</td>\n",
       "    </tr>\n",
       "    <tr>\n",
       "      <th>4</th>\n",
       "      <td>5156201.0</td>\n",
       "      <td>11261341.0</td>\n",
       "      <td>ORDERED</td>\n",
       "      <td>11998.28</td>\n",
       "    </tr>\n",
       "    <tr>\n",
       "      <th>...</th>\n",
       "      <td>...</td>\n",
       "      <td>...</td>\n",
       "      <td>...</td>\n",
       "      <td>...</td>\n",
       "    </tr>\n",
       "    <tr>\n",
       "      <th>71940</th>\n",
       "      <td>5188032.0</td>\n",
       "      <td>NaN</td>\n",
       "      <td>NaN</td>\n",
       "      <td>NaN</td>\n",
       "    </tr>\n",
       "    <tr>\n",
       "      <th>71941</th>\n",
       "      <td>5188161.0</td>\n",
       "      <td>NaN</td>\n",
       "      <td>NaN</td>\n",
       "      <td>NaN</td>\n",
       "    </tr>\n",
       "    <tr>\n",
       "      <th>71942</th>\n",
       "      <td>5188263.0</td>\n",
       "      <td>NaN</td>\n",
       "      <td>NaN</td>\n",
       "      <td>NaN</td>\n",
       "    </tr>\n",
       "    <tr>\n",
       "      <th>71943</th>\n",
       "      <td>5188431.0</td>\n",
       "      <td>NaN</td>\n",
       "      <td>NaN</td>\n",
       "      <td>NaN</td>\n",
       "    </tr>\n",
       "    <tr>\n",
       "      <th>71944</th>\n",
       "      <td>5189011.0</td>\n",
       "      <td>NaN</td>\n",
       "      <td>NaN</td>\n",
       "      <td>NaN</td>\n",
       "    </tr>\n",
       "  </tbody>\n",
       "</table>\n",
       "<p>71945 rows × 4 columns</p>\n",
       "</div>"
      ],
      "text/plain": [
       "       Customer ID    Order ID Order Status  Distance (in km)\n",
       "0        4645484.0  11262518.0      ORDERED          11996.01\n",
       "1        4645484.0  11262518.0      ORDERED          11996.01\n",
       "2        4420776.0  11261796.0   DISPATCHED          11994.38\n",
       "3        4420776.0  11261796.0   DISPATCHED          11994.38\n",
       "4        5156201.0  11261341.0      ORDERED          11998.28\n",
       "...            ...         ...          ...               ...\n",
       "71940    5188032.0         NaN          NaN               NaN\n",
       "71941    5188161.0         NaN          NaN               NaN\n",
       "71942    5188263.0         NaN          NaN               NaN\n",
       "71943    5188431.0         NaN          NaN               NaN\n",
       "71944    5189011.0         NaN          NaN               NaN\n",
       "\n",
       "[71945 rows x 4 columns]"
      ]
     },
     "execution_count": 20,
     "metadata": {},
     "output_type": "execute_result"
    }
   ],
   "source": [
    "  #selecting required parameters in the columns\n",
    "df = data[[\"Customer ID\",\"Order ID\", \"Order Status\",\"Distance (in km)\",]]\n",
    "df"
   ]
  },
  {
   "cell_type": "code",
   "execution_count": 22,
   "id": "f25162fc",
   "metadata": {},
   "outputs": [
    {
     "data": {
      "text/html": [
       "<div>\n",
       "<style scoped>\n",
       "    .dataframe tbody tr th:only-of-type {\n",
       "        vertical-align: middle;\n",
       "    }\n",
       "\n",
       "    .dataframe tbody tr th {\n",
       "        vertical-align: top;\n",
       "    }\n",
       "\n",
       "    .dataframe thead th {\n",
       "        text-align: right;\n",
       "    }\n",
       "</style>\n",
       "<table border=\"1\" class=\"dataframe\">\n",
       "  <thead>\n",
       "    <tr style=\"text-align: right;\">\n",
       "      <th></th>\n",
       "      <th>Customer ID</th>\n",
       "      <th>Order ID</th>\n",
       "      <th>Order Status</th>\n",
       "      <th>Distance (in km)</th>\n",
       "    </tr>\n",
       "  </thead>\n",
       "  <tbody>\n",
       "    <tr>\n",
       "      <th>0</th>\n",
       "      <td>4645484.0</td>\n",
       "      <td>11262518.0</td>\n",
       "      <td>ORDERED</td>\n",
       "      <td>11996.01</td>\n",
       "    </tr>\n",
       "    <tr>\n",
       "      <th>1</th>\n",
       "      <td>4645484.0</td>\n",
       "      <td>11262518.0</td>\n",
       "      <td>ORDERED</td>\n",
       "      <td>11996.01</td>\n",
       "    </tr>\n",
       "    <tr>\n",
       "      <th>2</th>\n",
       "      <td>4420776.0</td>\n",
       "      <td>11261796.0</td>\n",
       "      <td>DISPATCHED</td>\n",
       "      <td>11994.38</td>\n",
       "    </tr>\n",
       "    <tr>\n",
       "      <th>3</th>\n",
       "      <td>4420776.0</td>\n",
       "      <td>11261796.0</td>\n",
       "      <td>DISPATCHED</td>\n",
       "      <td>11994.38</td>\n",
       "    </tr>\n",
       "    <tr>\n",
       "      <th>4</th>\n",
       "      <td>5156201.0</td>\n",
       "      <td>11261341.0</td>\n",
       "      <td>ORDERED</td>\n",
       "      <td>11998.28</td>\n",
       "    </tr>\n",
       "    <tr>\n",
       "      <th>...</th>\n",
       "      <td>...</td>\n",
       "      <td>...</td>\n",
       "      <td>...</td>\n",
       "      <td>...</td>\n",
       "    </tr>\n",
       "    <tr>\n",
       "      <th>71940</th>\n",
       "      <td>5188032.0</td>\n",
       "      <td>1.0</td>\n",
       "      <td>1</td>\n",
       "      <td>1.00</td>\n",
       "    </tr>\n",
       "    <tr>\n",
       "      <th>71941</th>\n",
       "      <td>5188161.0</td>\n",
       "      <td>1.0</td>\n",
       "      <td>1</td>\n",
       "      <td>1.00</td>\n",
       "    </tr>\n",
       "    <tr>\n",
       "      <th>71942</th>\n",
       "      <td>5188263.0</td>\n",
       "      <td>1.0</td>\n",
       "      <td>1</td>\n",
       "      <td>1.00</td>\n",
       "    </tr>\n",
       "    <tr>\n",
       "      <th>71943</th>\n",
       "      <td>5188431.0</td>\n",
       "      <td>1.0</td>\n",
       "      <td>1</td>\n",
       "      <td>1.00</td>\n",
       "    </tr>\n",
       "    <tr>\n",
       "      <th>71944</th>\n",
       "      <td>5189011.0</td>\n",
       "      <td>1.0</td>\n",
       "      <td>1</td>\n",
       "      <td>1.00</td>\n",
       "    </tr>\n",
       "  </tbody>\n",
       "</table>\n",
       "<p>71945 rows × 4 columns</p>\n",
       "</div>"
      ],
      "text/plain": [
       "       Customer ID    Order ID Order Status  Distance (in km)\n",
       "0        4645484.0  11262518.0      ORDERED          11996.01\n",
       "1        4645484.0  11262518.0      ORDERED          11996.01\n",
       "2        4420776.0  11261796.0   DISPATCHED          11994.38\n",
       "3        4420776.0  11261796.0   DISPATCHED          11994.38\n",
       "4        5156201.0  11261341.0      ORDERED          11998.28\n",
       "...            ...         ...          ...               ...\n",
       "71940    5188032.0         1.0            1              1.00\n",
       "71941    5188161.0         1.0            1              1.00\n",
       "71942    5188263.0         1.0            1              1.00\n",
       "71943    5188431.0         1.0            1              1.00\n",
       "71944    5189011.0         1.0            1              1.00\n",
       "\n",
       "[71945 rows x 4 columns]"
      ]
     },
     "execution_count": 22,
     "metadata": {},
     "output_type": "execute_result"
    }
   ],
   "source": [
    "df =df.fillna(1)\n",
    "df"
   ]
  },
  {
   "cell_type": "code",
   "execution_count": 23,
   "id": "34ad0555",
   "metadata": {},
   "outputs": [],
   "source": [
    "x = df.iloc[:, [0, 3]].values  \n"
   ]
  },
  {
   "cell_type": "code",
   "execution_count": 24,
   "id": "dcc05c31",
   "metadata": {},
   "outputs": [],
   "source": [
    "from sklearn.cluster import KMeans "
   ]
  },
  {
   "cell_type": "code",
   "execution_count": 42,
   "id": "ac631575",
   "metadata": {},
   "outputs": [
    {
     "data": {
      "image/png": "[encoded data removed]",
      "text/plain": [
       "<Figure size 432x288 with 1 Axes>"
      ]
     },
     "metadata": {
      "needs_background": "light"
     },
     "output_type": "display_data"
    }
   ],
   "source": [
    "wcss_list=[]\n",
    "for i in range(1, 11):  \n",
    "    kmeans = KMeans(n_clusters=i, init='k-means++', random_state= 1)  \n",
    "    kmeans.fit(x)  \n",
    "    wcss_list.append(kmeans.inertia_)  \n",
    "mtp.plot(range(1, 11), wcss_list)  \n",
    "mtp.title('The Elbow Method Graph')  \n",
    "mtp.xlabel('Number of clusters(k)')  \n",
    "mtp.ylabel('wcss_list')  \n",
    "mtp.show()  "
   ]
  },
  {
   "cell_type": "code",
   "execution_count": 47,
   "id": "08cd40e1",
   "metadata": {},
   "outputs": [],
   "source": [
    "#training the K-means model on a dataset using 2 as the elbow point\n",
    "kmeans = KMeans(n_clusters=5, init='k-means++', random_state= 1)  \n",
    "y_predict= kmeans.fit_predict(x)  \n"
   ]
  },
  {
   "cell_type": "code",
   "execution_count": 48,
   "id": "056ee71d",
   "metadata": {},
   "outputs": [
    {
     "data": {
      "image/png": "[encoded data removed]",
      "text/plain": [
       "<Figure size 432x288 with 1 Axes>"
      ]
     },
     "metadata": {
      "needs_background": "light"
     },
     "output_type": "display_data"
    }
   ],
   "source": [
    "#visulaizing the clusters  \n",
    "mtp.scatter(x[y_predict == 0, 0], x[y_predict == 0, 1], s = 100, c = 'blue', label = 'Cluster 1') #for first cluster  \n",
    "mtp.scatter(x[y_predict == 1, 0], x[y_predict == 1, 1], s = 100, c = 'green', label = 'Cluster 2') #for second cluster  \n",
    "mtp.scatter(x[y_predict== 2, 0], x[y_predict == 2, 1], s = 100, c = 'red', label = 'Cluster 3') #for third cluster  \n",
    "mtp.scatter(x[y_predict == 3, 0], x[y_predict == 3, 1], s = 100, c = 'cyan', label = 'Cluster 4') #for fourth cluster  \n",
    "mtp.scatter(x[y_predict == 4, 0], x[y_predict == 4, 1], s = 100, c = 'magenta', label = 'Cluster 5') #for fifth cluster  \n",
    "mtp.scatter(kmeans.cluster_centers_[:, 0], kmeans.cluster_centers_[:, 1], s = 300, c = 'yellow', label = 'Centroid')   \n",
    "mtp.title('Clusters of customers')  \n",
    "mtp.xlabel('Customer ID')  \n",
    "mtp.ylabel('Distance(1-100)')  \n",
    "mtp.legend()  \n",
    "mtp.show()  "
   ]
  },
  {
   "cell_type": "code",
   "execution_count": null,
   "id": "fee03289",
   "metadata": {},
   "outputs": [],
   "source": []
  }
 ],
 "metadata": {
  "kernelspec": {
   "display_name": "Python 3 (ipykernel)",
   "language": "python",
   "name": "python3"
  },
  "language_info": {
   "codemirror_mode": {
    "name": "ipython",
    "version": 3
   },
   "file_extension": ".py",
   "mimetype": "text/x-python",
   "name": "python",
   "nbconvert_exporter": "python",
   "pygments_lexer": "ipython3",
   "version": "3.9.7"
  }
 },
 "nbformat": 4,
 "nbformat_minor": 5
}
